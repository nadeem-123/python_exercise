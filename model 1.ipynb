{
  "metadata": {
    "kernelspec": {
      "name": "python",
      "display_name": "Python (Pyodide)",
      "language": "python"
    },
    "language_info": {
      "codemirror_mode": {
        "name": "python",
        "version": 3
      },
      "file_extension": ".py",
      "mimetype": "text/x-python",
      "name": "python",
      "nbconvert_exporter": "python",
      "pygments_lexer": "ipython3",
      "version": "3.8"
    }
  },
  "nbformat_minor": 4,
  "nbformat": 4,
  "cells": [
    {
      "cell_type": "code",
      "source": "import pandas as pd\n\n\ndef calculate_synthetic_atm(strike_price):\n    return round(strike_price / 100) * 100\n\n\ndef select_straddle_range(synthetic_atm):\n    return [synthetic_atm - 200, synthetic_atm - 100, synthetic_atm, synthetic_atm + 100, synthetic_atm + 200]\n\n\ndef process_strategy_data(input_csv, output_excel):\n   \n    data = pd.read_csv(input_csv)\n    data['datetime'] = pd.to_datetime(data['datetime'])\n    \n    \n    data['SyntheticATM'] = data['strike_price'].apply(calculate_synthetic_atm)\n    data['StraddleRange'] = data['SyntheticATM'].apply(select_straddle_range)\n    \n   \n    data['Entry'] = data['close'] < data['VWAP'].fillna(0)  \n    data['Profit'] = data['close'] - data['open']           \n    \n    \n    summary = data.groupby('SyntheticATM').agg(\n        Total_Trades=('Entry', 'sum'),\n        Total_Net_Profit=('Profit', 'sum')\n    ).reset_index()\n    \n    \n    summary['Range Name'] = summary['SyntheticATM'].apply(lambda x: f\"ATM_{x}\")\n    summary['SpotTime'] = 918  \n    summary['SL Threshold'] = 100  \n    summary['DTE'] = 0  \n    summary['Strategy_Name'] = \"23_EMA_High\"\n    summary['Raange_Category'] = \"T1_100\"\n    summary['TimeFrame'] = \"3min\"\n    \n    \n    output_columns = [\n        'Range Name', 'Total_Trades', 'Total_Net_Profit', 'SpotTime', \n        'SL Threshold', 'DTE', 'Strategy_Name', 'Raange_Category', 'TimeFrame'\n    ]\n    formatted_output = summary[output_columns]\n    \n    \n    formatted_output.to_excel(output_excel, index=False)\n    print(f\"Output saved to: {output_excel}\")\n\n\ninput_csv = 'E:/Quant Intern/Nifty Data/NIFTY_2023-08-10.csv'\noutput_excel = 'E:/Quant Intern/Output folder/strategy_results_output.xlsx'\n\n\nprocess_strategy_data(input_csv, output_excel)\n",
      "metadata": {
        "trusted": true
      },
      "outputs": [],
      "execution_count": null
    }
  ]
}