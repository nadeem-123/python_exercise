{
  "metadata": {
    "kernelspec": {
      "name": "python",
      "display_name": "Python (Pyodide)",
      "language": "python"
    },
    "language_info": {
      "name": ""
    }
  },
  "nbformat_minor": 4,
  "nbformat": 4,
  "cells": [
    {
      "cell_type": "code",
      "source": "import pandas as pd\n\n# Function to calculate synthetic ATM\ndef calculate_synthetic_atm(strike_price):\n    return round(strike_price / 100) * 100\n\n# Function to select straddle range\ndef select_straddle_range(synthetic_atm):\n    return [synthetic_atm - 200, synthetic_atm - 100, synthetic_atm, synthetic_atm + 100, synthetic_atm + 200]\n\n# Main function to process the data and generate output\ndef process_strategy_data(input_csv, output_excel):\n    # Load the input data\n    data = pd.read_csv(input_csv)\n    data['datetime'] = pd.to_datetime(data['datetime'])\n    \n    # Calculate synthetic ATM and straddle range\n    data['SyntheticATM'] = data['strike_price'].apply(calculate_synthetic_atm)\n    data['StraddleRange'] = data['SyntheticATM'].apply(select_straddle_range)\n    \n    # Apply entry rules and calculate profit (example logic)\n    data['Entry'] = data['close'] < data['VWAP'].fillna(0)  # Example entry rule\n    data['Profit'] = data['close'] - data['open']           # Example profit calculation\n    \n    # Summarize results\n    summary = data.groupby('SyntheticATM').agg(\n        Total_Trades=('Entry', 'sum'),\n        Total_Net_Profit=('Profit', 'sum')\n    ).reset_index()\n    \n    # Add additional fields to match the desired format\n    summary['Range Name'] = summary['SyntheticATM'].apply(lambda x: f\"ATM_{x}\")\n    summary['SpotTime'] = 918  # Example spot time\n    summary['SL Threshold'] = 100  # Example value\n    summary['DTE'] = 0  # Example value\n    summary['Strategy_Name'] = \"23_EMA_High\"\n    summary['Raange_Category'] = \"T1_100\"\n    summary['TimeFrame'] = \"3min\"\n    \n    # Reorder columns to match the output format\n    output_columns = [\n        'Range Name', 'Total_Trades', 'Total_Net_Profit', 'SpotTime', \n        'SL Threshold', 'DTE', 'Strategy_Name', 'Raange_Category', 'TimeFrame'\n    ]\n    formatted_output = summary[output_columns]\n    \n    # Save the results to an Excel file\n    formatted_output.to_excel(output_excel, index=False)\n    print(f\"Output saved to: {output_excel}\")\n\n# File paths\ninput_csv = 'E:/Quant Intern/Nifty Data/NIFTY_2023-08-10.csv'\noutput_excel = 'E:/Quant Intern/Output folder/strategy_results_output.xlsx'\n\n# Execute the function\nprocess_strategy_data(input_csv, output_excel)",
      "metadata": {
        "trusted": true
      },
      "outputs": [],
      "execution_count": null
    }
  ]
}