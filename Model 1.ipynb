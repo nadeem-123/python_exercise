{
  "metadata": {
    "kernelspec": {
      "name": "python",
      "display_name": "Python (Pyodide)",
      "language": "python"
    },
    "language_info": {
      "codemirror_mode": {
        "name": "python",
        "version": 3
      },
      "file_extension": ".py",
      "mimetype": "text/x-python",
      "name": "python",
      "nbconvert_exporter": "python",
      "pygments_lexer": "ipython3",
      "version": "3.8"
    }
  },
  "nbformat_minor": 4,
  "nbformat": 4,
  "cells": [
    {
      "cell_type": "code",
      "source": "import pandas as pd\nimport numpy as np\n\n# Function to calculate synthetic ATM\ndef calculate_synthetic_atm(strike_price):\n    return round(strike_price / 100) * 100\n\n# Function to select straddle range\ndef select_straddle_range(synthetic_atm):\n    return [synthetic_atm - 200, synthetic_atm - 100, synthetic_atm, synthetic_atm + 100, synthetic_atm + 200]\n\n# Function to calculate EMA\ndef calculate_ema(data, period):\n    return data.ewm(span=period, adjust=False).mean()\n\n# Function to implement trailing stop loss (TSL)\ndef apply_tsl(strategy_data, tsl_type):\n    trailing_sl = None\n    profits = []\n    lots = 5\n\n    for index, row in strategy_data.iterrows():\n        # Apply the TSL logic based on tsl_type\n        if tsl_type == 2:\n            if row['Profit'] >= 20:\n                trailing_sl = row['EntryPrice'] + 20\n            if row['Profit'] >= 40:\n                trailing_sl = row['EntryPrice'] + 40\n            if row['Profit'] >= 60:\n                trailing_sl = row['EntryPrice'] + 60\n            if row['Profit'] >= 80:\n                trailing_sl = row['EntryPrice'] + 80\n\n        elif tsl_type == 3:\n            if row['Profit'] >= 20:\n                lots -= 1\n                profits.append(row['Profit'])\n                if lots == 0:\n                    break\n        elif tsl_type == 4:\n            # Implement logic for TSL4\n            pass\n\n    return profits\n\n# Function to check entry rules\ndef check_entry(row):\n    return row['close'] < row['EMA_15']\n\n# Load data (replace with your dataset file path)\ndata = pd.read_csv('/Users/mdnadeem/Documents/Python/Quant Internship/NIFTY_2023-08-10.csv')\n\n# Ensure correct column parsing\ndata['datetime'] = pd.to_datetime(data['datetime'])\ndata['SyntheticATM'] = data['strike_price'].apply(calculate_synthetic_atm)\ndata['StraddleRange'] = data['SyntheticATM'].apply(select_straddle_range)\n\n# Calculate EMA band\ndata['EMA_15'] = calculate_ema(data['close'], 15)\ndata['EMA_25'] = calculate_ema(data['close'], 25)\ndata['EMA_35'] = calculate_ema(data['close'], 35)\ndata['EMA_45'] = calculate_ema(data['close'], 45)\ndata['EMA_55'] = calculate_ema(data['close'], 55)\n\n# Define strategy parameters\nindicator = 24500  # Example value, replace with actual indicator data\nvwap = data['VWAP'].iloc[-1]  # Use the last VWAP value from the data\n\n# Initialize columns\nstrategy_data = pd.DataFrame()\nstrategy_data['Timestamp'] = data['timestamp']\nstrategy_data['StrikePrice'] = data['strike_price']\nstrategy_data['Entry'] = data.apply(check_entry, axis=1)  # Apply row-by-row entry check\n\n# Define EntryPrice based on Entry condition\nstrategy_data['EntryPrice'] = data['close'].where(strategy_data['Entry'], np.nan)\n\nstrategy_data['Exit'] = False  # Add your exit logic here\nstrategy_data['Profit'] = data['close'] - strategy_data['EntryPrice']  # Example profit calculation, adjust as needed\n\n# Apply TSL and analyze performance\nprofits = apply_tsl(strategy_data, tsl_type=2)\n\n# Display results\nprint(f\"Profits: {profits}\")\n\n# Save results to a file\nstrategy_data.to_csv('/Users/mdnadeem/Documents/Python/Quant Internship/Output file/strategy_results.csv', index=False)\n",
      "metadata": {
        "trusted": true
      },
      "outputs": [],
      "execution_count": null
    }
  ]
}