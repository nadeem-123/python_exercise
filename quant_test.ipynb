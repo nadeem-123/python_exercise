{
  "metadata": {
    "kernelspec": {
      "name": "python",
      "display_name": "Python (Pyodide)",
      "language": "python"
    },
    "language_info": {
      "codemirror_mode": {
        "name": "python",
        "version": 3
      },
      "file_extension": ".py",
      "mimetype": "text/x-python",
      "name": "python",
      "nbconvert_exporter": "python",
      "pygments_lexer": "ipython3",
      "version": "3.8"
    }
  },
  "nbformat_minor": 4,
  "nbformat": 4,
  "cells": [
    {
      "cell_type": "code",
      "source": "import pandas as pd\nimport matplotlib.pyplot as plt\n\n\nfile_path = '/Users/mdnadeem/Documents/Python/nifty_data/Test data/NIFTY_2023-08-10.csv' #filepath of local csv file which needs to analyse\nprocessed_data_path = '/Users/mdnadeem/Documents/Python/nifty_data/Test data/processed_straddle_data.csv' #Output file 1: saved in local storage\ntrade_results_path = '/Users/mdnadeem/Documents/Python/nifty_data/Test data/trade_results.csv' #Output file 2: saved in local storage\nbacktesting_results_path = '/Users/mdnadeem/Documents/Python/nifty_data/Test data/backtesting_results.csv' ##Output file 3: saved in local storage\n\n# Load the CSV file\ndata = pd.read_csv(file_path)\ndata['timestamp'] = pd.to_datetime(data['timestamp'])\ndata.set_index('timestamp', inplace=True)\n\n# Step 1: Calculate Synthetic ATM\ndef calculate_synthetic_atm(data):\n    opening_data = data.between_time('09:15', '09:15')\n    if opening_data.empty:\n        print(\"No opening data found for '09:15'.\")\n        return None\n    atm = opening_data['strike_price'].median()\n    print(f\"Synthetic ATM: {atm}\")\n    return round(atm, -2)\n\nsynthetic_atm = calculate_synthetic_atm(data)\nif synthetic_atm is None:\n    print(\"Failed to calculate synthetic ATM.\")\n    exit()\n\n# Step 2: Select Straddles\n\ndef select_straddles(data, atm):\n    strikes = [atm - 200, atm - 100, atm, atm + 100, atm + 200]\n    filtered_data = data[data['strike_price'].isin(strikes)]\n    return filtered_data\n\nselected_straddles = select_straddles(data, synthetic_atm)\n\n# Step 3: Simulate Entry and Exit with Conditions\n\ndef simulate_entry_exit(data, indicator_threshold, stop_loss_points=30, trailing_sl=True):\n    trades = []\n    is_in_trade = False\n    entry_price = 0\n    tsl = 0  # Trailing Stop Loss\n\n    for timestamp, row in data.iterrows():\n        if not is_in_trade and row['close'] < indicator_threshold:  # Entry Condition\n            trades.append((timestamp, row['strike_price'], row['close'], \"ENTRY\"))\n            is_in_trade = True\n            entry_price = row['close']\n            tsl = entry_price - stop_loss_points if trailing_sl else None\n        elif is_in_trade:\n            if row['close'] > entry_price + stop_loss_points:  # Stop Loss Exit\n                trades.append((timestamp, row['strike_price'], row['close'], \"EXIT\"))\n                is_in_trade = False\n            elif trailing_sl and row['close'] < tsl:  # Trailing SL Exit\n                trades.append((timestamp, row['strike_price'], row['close'], \"EXIT\"))\n                is_in_trade = False\n            else:  # Update TSL\n                tsl = max(tsl, row['close'] - stop_loss_points)\n    return trades\n\nindicator_threshold = selected_straddles['close'].mean()  # Dynamic threshold\ntrades = simulate_entry_exit(selected_straddles, indicator_threshold)\n\n# Step 4: Create Trades DataFrame\ntrades_df = pd.DataFrame(trades, columns=['Timestamp', 'Strike Price', 'Price', 'Action'])\n\n# Step 5: Calculate PnL\ntrades_df['PnL'] = 0\nfor i in range(1, len(trades_df)):\n    if trades_df.iloc[i]['Action'] == 'EXIT' and trades_df.iloc[i - 1]['Action'] == 'ENTRY':\n        trades_df.loc[i, 'PnL'] = trades_df.iloc[i - 1]['Price'] - trades_df.iloc[i]['Price']\n\ntrades_df['CumulativePnL'] = trades_df['PnL'].cumsum()\n\n# Step 6: Save Results\ndata.to_csv(processed_data_path)\ntrades_df.to_csv(trade_results_path)\n\n# Step 7: Plot Results\nplt.figure(figsize=(12, 6))\nfor strike in selected_straddles['strike_price'].unique():\n    strike_data = selected_straddles[selected_straddles['strike_price'] == strike]\n    plt.plot(strike_data.index, strike_data['close'], label=f\"Strike {strike}\")\n\nentry_trades = trades_df[trades_df['Action'] == 'ENTRY']\nexit_trades = trades_df[trades_df['Action'] == 'EXIT']\n\nplt.scatter(entry_trades['Timestamp'], entry_trades['Price'], color='green', label='Entry Trades', marker='^')\nplt.scatter(exit_trades['Timestamp'], exit_trades['Price'], color='red', label='Exit Trades', marker='v')\n\nplt.title(\"Straddle Prices with Entry and Exit Points\")\nplt.xlabel(\"Time\")\nplt.ylabel(\"Price\")\nplt.legend()\nplt.grid()\nplt.show()\n\n# Step 8: Display Backtesting Results\nprint(\"Backtesting Results:\")\nprint(trades_df[['Timestamp', 'Strike Price', 'Price', 'Action', 'PnL', 'CumulativePnL']])\n\ntrades_df[['Timestamp', 'Strike Price', 'Price', 'Action', 'PnL', 'CumulativePnL']].to_csv(backtesting_results_path, index=False)\nprint(f\"Backtesting results saved to {backtesting_results_path}\")",
      "metadata": {
        "trusted": true
      },
      "outputs": [],
      "execution_count": null
    }
  ]
}